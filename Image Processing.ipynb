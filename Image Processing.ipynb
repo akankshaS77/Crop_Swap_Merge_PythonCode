{
 "cells": [
  {
   "cell_type": "code",
   "execution_count": 1,
   "metadata": {},
   "outputs": [],
   "source": [
    "# import libraries\n",
    "\n",
    "import cv2\n",
    "import numpy\n",
    "from PIL import Image, ImageEnhance"
   ]
  },
  {
   "cell_type": "markdown",
   "metadata": {},
   "source": [
    "## Task 4.1 : Craete own Image using OpenCV Module"
   ]
  },
  {
   "cell_type": "code",
   "execution_count": 2,
   "metadata": {},
   "outputs": [
    {
     "data": {
      "text/plain": [
       "True"
      ]
     },
     "execution_count": 2,
     "metadata": {},
     "output_type": "execute_result"
    }
   ],
   "source": [
    "# Create own image and Store in Harddisk\n",
    "\n",
    "photo=numpy.zeros([600,600,3])\n",
    "photo[:,:]=[255,255,255]\n",
    "img=cv2.rectangle(photo, (0,0), (600,200),(0,0,255), -1)\n",
    "img=cv2.rectangle(photo, (0,400), (600,600),(0,255,0), -1)\n",
    "font=cv2.FONT_HERSHEY_COMPLEX\n",
    "img=cv2.putText(img, 'Jai Hind', (50,350), font, 4, (255,0,0), 3, cv2.LINE_AA )\n",
    "cv2.imwrite('jaihind.jpg',photo,[cv2.IMWRITE_JPEG_QUALITY, 50])\n"
   ]
  },
  {
   "cell_type": "code",
   "execution_count": 3,
   "metadata": {},
   "outputs": [],
   "source": [
    "# Show image created\n",
    "\n",
    "photo1=cv2.imread('jaihind.jpg')\n",
    "cv2.imshow('Jai Hind',photo1)\n",
    "cv2.waitKey()\n",
    "cv2.destroyAllWindows()"
   ]
  },
  {
   "cell_type": "markdown",
   "metadata": {},
   "source": [
    "## Task 4.2 : Crop and Swap images"
   ]
  },
  {
   "cell_type": "code",
   "execution_count": 4,
   "metadata": {},
   "outputs": [],
   "source": [
    "# Read image from harddisk\n",
    "\n",
    "photo2=cv2.imread('india.jpg')\n",
    "cv2.imshow('India',photo2)\n",
    "cv2.waitKey(0)\n",
    "cv2.destroyAllWindows()"
   ]
  },
  {
   "cell_type": "code",
   "execution_count": 5,
   "metadata": {},
   "outputs": [],
   "source": [
    "#crop points of image 2\n",
    "p2a=162\n",
    "p2b=316\n",
    "p2c=220\n",
    "p2d=377\n",
    "\n",
    "# cropped part of image2\n",
    "crop2=photo2[p2a:p2b,p2c:p2d]\n",
    "cv2.imwrite('Chakra.jpg',crop2,[cv2.IMWRITE_JPEG_QUALITY, 50])\n",
    "cv2.imshow('Chakra',crop2)\n",
    "cv2.waitKey(0)\n",
    "cv2.destroyAllWindows()"
   ]
  },
  {
   "cell_type": "code",
   "execution_count": 6,
   "metadata": {},
   "outputs": [
    {
     "data": {
      "text/plain": [
       "True"
      ]
     },
     "execution_count": 6,
     "metadata": {},
     "output_type": "execute_result"
    }
   ],
   "source": [
    "# test : crop 1\n",
    "y1=248\n",
    "y2=350\n",
    "x1=50\n",
    "x2=227\n",
    "\n",
    "\n",
    "test=photo1[y1:y2,x1:x2]\n",
    "cv2.imshow('test',test)\n",
    "cv2.waitKey()\n",
    "cv2.destroyAllWindows()\n",
    "cv2.imwrite('jai.jpg',test,[cv2.IMWRITE_JPEG_QUALITY, 50])"
   ]
  },
  {
   "cell_type": "code",
   "execution_count": 7,
   "metadata": {},
   "outputs": [],
   "source": [
    "# Chakra Swap at Place of Jai\n",
    "\n",
    "# Swap chakra at correct position\n",
    "y1=230\n",
    "y2=384\n",
    "x1=58\n",
    "x2=215\n",
    "\n",
    "crop1=cv2.imread('Chakra.jpg')\n",
    "photo=cv2.imread('jaihind.jpg')\n",
    "photo[y1:y2,x1:x2]=crop1\n",
    "cv2.imshow('resized',photo)\n",
    "cv2.waitKey()\n",
    "cv2.destroyAllWindows()"
   ]
  },
  {
   "cell_type": "code",
   "execution_count": null,
   "metadata": {},
   "outputs": [],
   "source": [
    "crop1.shape"
   ]
  },
  {
   "cell_type": "code",
   "execution_count": 8,
   "metadata": {},
   "outputs": [],
   "source": [
    "# resize jai.jpg\n",
    "jai = Image.open('jai.jpg')\n",
    "jai=jai.resize((157,154))\n",
    "jai.save('jai_resize.jpg')\n",
    "\n",
    "# show jai_resize.jpg\n",
    "jai=cv2.imread('jai_resize.jpg')\n",
    "cv2.imshow('resized',jai)\n",
    "cv2.waitKey()\n",
    "cv2.destroyAllWindows()"
   ]
  },
  {
   "cell_type": "code",
   "execution_count": 9,
   "metadata": {},
   "outputs": [],
   "source": [
    "# Jai Swap at Place of Chakra\n",
    "\n",
    "# Swap part of 2nd image in 1st \n",
    "\n",
    "crop1=cv2.imread('jai_resize.jpg')\n",
    "photo2=cv2.imread(\"india.jpg\")\n",
    "photo2[p2a:p2b,p2c:p2d]=crop1\n",
    "cv2.imshow('India',photo2)\n",
    "cv2.waitKey(0)\n",
    "cv2.destroyAllWindows()"
   ]
  },
  {
   "cell_type": "markdown",
   "metadata": {},
   "source": [
    "## Task 4.3 : Editting Images and making Collage using Numpy"
   ]
  },
  {
   "cell_type": "code",
   "execution_count": 10,
   "metadata": {},
   "outputs": [],
   "source": [
    "# combine both image1 and image2 to form horizonal and Verticle collage\n",
    "\n",
    "# Reshape and Edit Image1\n",
    "image1 = Image.open('jaihind.jpg')\n",
    "resize1=image1.resize((400,400))\n",
    "resize1=resize1.rotate(348)\n",
    "resize1.save('jaihind_reshape.jpg')\n",
    "\n",
    "# Reshape and Edit Image2\n",
    "image2= Image.open('india.jpg')\n",
    "resize2=image2.resize((400,400))\n",
    "resize2=resize2.rotate(12)\n",
    "resize2 = ImageEnhance.Brightness(resize2)\n",
    "resize2.enhance(1).save('india_reshape.jpg')\n",
    "\n",
    "# import both image\n",
    "im1= cv2.imread('jaihind_reshape.jpg')\n",
    "im2= cv2.imread('india_reshape.jpg')\n",
    "\n",
    "# horizontal collage\n",
    "collage1=numpy.hstack((im1,im2))\n",
    "cv2.imshow('collage1',collage1)\n",
    "cv2.waitKey()\n",
    "cv2.destroyAllWindows()\n"
   ]
  },
  {
   "cell_type": "code",
   "execution_count": 11,
   "metadata": {},
   "outputs": [],
   "source": [
    "# Reshape and Edit Image1\n",
    "image1 = Image.open('jaihind.jpg')\n",
    "resize1=image1.resize((200,200))\n",
    "resize1=ImageEnhance.Brightness(resize1)\n",
    "resize1.enhance(1).save('jaihind_edit.jpg')\n",
    "\n",
    "# Reshape and Edit Image2\n",
    "image2= Image.open('india.jpg')\n",
    "resize2=image2.resize((200,200))\n",
    "resize2 = ImageEnhance.Brightness(resize2)\n",
    "resize2.enhance(1).save('india_edit.jpg')\n",
    "\n",
    "# import both image\n",
    "im1= cv2.imread('jaihind_edit.jpg')\n",
    "im2= cv2.imread('india_edit.jpg')\n",
    "\n",
    "# Verticle collage\n",
    "collage2=numpy.vstack((im1,im2))\n",
    "cv2.imshow('collage2',collage2)\n",
    "cv2.waitKey()\n",
    "cv2.destroyAllWindows()\n"
   ]
  },
  {
   "cell_type": "code",
   "execution_count": null,
   "metadata": {},
   "outputs": [],
   "source": []
  }
 ],
 "metadata": {
  "kernelspec": {
   "display_name": "Python 3",
   "language": "python",
   "name": "python3"
  },
  "language_info": {
   "codemirror_mode": {
    "name": "ipython",
    "version": 3
   },
   "file_extension": ".py",
   "mimetype": "text/x-python",
   "name": "python",
   "nbconvert_exporter": "python",
   "pygments_lexer": "ipython3",
   "version": "3.8.3"
  }
 },
 "nbformat": 4,
 "nbformat_minor": 4
}
